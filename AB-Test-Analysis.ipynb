{
 "cells": [
  {
   "cell_type": "code",
   "execution_count": 37,
   "metadata": {},
   "outputs": [],
   "source": [
    "import numpy as np\n",
    "import pandas as pd\n",
    "import matplotlib.pyplot as plt\n",
    "import seaborn as sns\n",
    "import scipy.stats as stats\n",
    "from statsmodels.stats.proportion import proportions_ztest"
   ]
  },
  {
   "cell_type": "code",
   "execution_count": 2,
   "metadata": {},
   "outputs": [
    {
     "data": {
      "text/html": [
       "<div>\n",
       "<style scoped>\n",
       "    .dataframe tbody tr th:only-of-type {\n",
       "        vertical-align: middle;\n",
       "    }\n",
       "\n",
       "    .dataframe tbody tr th {\n",
       "        vertical-align: top;\n",
       "    }\n",
       "\n",
       "    .dataframe thead th {\n",
       "        text-align: right;\n",
       "    }\n",
       "</style>\n",
       "<table border=\"1\" class=\"dataframe\">\n",
       "  <thead>\n",
       "    <tr style=\"text-align: right;\">\n",
       "      <th></th>\n",
       "      <th>group</th>\n",
       "      <th>converted</th>\n",
       "    </tr>\n",
       "  </thead>\n",
       "  <tbody>\n",
       "    <tr>\n",
       "      <td>0</td>\n",
       "      <td>A</td>\n",
       "      <td>0</td>\n",
       "    </tr>\n",
       "    <tr>\n",
       "      <td>1</td>\n",
       "      <td>A</td>\n",
       "      <td>1</td>\n",
       "    </tr>\n",
       "    <tr>\n",
       "      <td>2</td>\n",
       "      <td>A</td>\n",
       "      <td>0</td>\n",
       "    </tr>\n",
       "    <tr>\n",
       "      <td>3</td>\n",
       "      <td>A</td>\n",
       "      <td>0</td>\n",
       "    </tr>\n",
       "    <tr>\n",
       "      <td>4</td>\n",
       "      <td>A</td>\n",
       "      <td>0</td>\n",
       "    </tr>\n",
       "    <tr>\n",
       "      <td>...</td>\n",
       "      <td>...</td>\n",
       "      <td>...</td>\n",
       "    </tr>\n",
       "    <tr>\n",
       "      <td>19995</td>\n",
       "      <td>B</td>\n",
       "      <td>1</td>\n",
       "    </tr>\n",
       "    <tr>\n",
       "      <td>19996</td>\n",
       "      <td>B</td>\n",
       "      <td>0</td>\n",
       "    </tr>\n",
       "    <tr>\n",
       "      <td>19997</td>\n",
       "      <td>B</td>\n",
       "      <td>0</td>\n",
       "    </tr>\n",
       "    <tr>\n",
       "      <td>19998</td>\n",
       "      <td>B</td>\n",
       "      <td>0</td>\n",
       "    </tr>\n",
       "    <tr>\n",
       "      <td>19999</td>\n",
       "      <td>B</td>\n",
       "      <td>0</td>\n",
       "    </tr>\n",
       "  </tbody>\n",
       "</table>\n",
       "<p>20000 rows × 2 columns</p>\n",
       "</div>"
      ],
      "text/plain": [
       "      group  converted\n",
       "0         A          0\n",
       "1         A          1\n",
       "2         A          0\n",
       "3         A          0\n",
       "4         A          0\n",
       "...     ...        ...\n",
       "19995     B          1\n",
       "19996     B          0\n",
       "19997     B          0\n",
       "19998     B          0\n",
       "19999     B          0\n",
       "\n",
       "[20000 rows x 2 columns]"
      ]
     },
     "execution_count": 2,
     "metadata": {},
     "output_type": "execute_result"
    }
   ],
   "source": [
    "df= pd.read_csv('data/simulated_ab_test.csv')\n",
    "df"
   ]
  },
  {
   "cell_type": "code",
   "execution_count": 30,
   "metadata": {},
   "outputs": [
    {
     "data": {
      "text/plain": [
       "group\n",
       "A    10.65\n",
       "B    13.66\n",
       "Name: converted, dtype: float64"
      ]
     },
     "execution_count": 30,
     "metadata": {},
     "output_type": "execute_result"
    }
   ],
   "source": [
    "#conversion rate for each group\n",
    "ConversionRate= (df.groupby('group')['converted'].mean()*100)\n",
    "ConversionRate"
   ]
  },
  {
   "cell_type": "code",
   "execution_count": 31,
   "metadata": {},
   "outputs": [
    {
     "name": "stdout",
     "output_type": "stream",
     "text": [
      "Absolute lift:  3.01\n",
      "Relative lift:  0.28262910798122065\n"
     ]
    }
   ],
   "source": [
    "#find the absolute and relative lift\n",
    "A_cr= ConversionRate['A']\n",
    "B_cr= ConversionRate['B']\n",
    "\n",
    "#absolute lift\n",
    "abs_lift= B_cr - A_cr\n",
    "\n",
    "#relative lift\n",
    "rel_lift= (B_cr - A_cr)/ A_cr\n",
    "\n",
    "print('Absolute lift: ', abs_lift)\n",
    "print('Relative lift: ',rel_lift)"
   ]
  },
  {
   "cell_type": "code",
   "execution_count": 32,
   "metadata": {},
   "outputs": [
    {
     "name": "stdout",
     "output_type": "stream",
     "text": [
      "Conversion counts per group:  group\n",
      "A    1065\n",
      "B    1366\n",
      "Name: converted, dtype: int64\n",
      "Total observation per group: \n",
      " A    10000\n",
      "B    10000\n",
      "Name: group, dtype: int64\n",
      "z- statistics:  -6.5135161243251405\n",
      "p_value:  7.341172092217622e-11\n"
     ]
    }
   ],
   "source": [
    "#calculate proportions\n",
    "\n",
    "#conversion per group count\n",
    "conversions= df.groupby('group')['converted'].sum()\n",
    "print('Conversion counts per group: ', conversions)\n",
    "\n",
    "#total observation per group\n",
    "total= df['group'].value_counts().sort_index()\n",
    "print('Total observation per group: \\n',total)\n",
    "\n",
    "#z-test for significance\n",
    "z_stat, p_value= proportions_ztest(count=conversions, nobs= total)\n",
    "print(\"z- statistics: \", z_stat)\n",
    "print(\"p_value: \", p_value)"
   ]
  },
  {
   "cell_type": "code",
   "execution_count": 36,
   "metadata": {},
   "outputs": [
    {
     "data": {
      "image/png": "[encoded data removed]",
      "text/plain": [
       "<Figure size 432x288 with 1 Axes>"
      ]
     },
     "metadata": {
      "needs_background": "light"
     },
     "output_type": "display_data"
    }
   ],
   "source": [
    "#visuals\n",
    "\n",
    "sns.barplot(x=ConversionRate.index, y=ConversionRate.values, palette=\"Blues_d\")\n",
    "plt.title('Conversion Rate by Group (A vs B)')\n",
    "plt.ylabel('Conversion Rate')\n",
    "plt.xlabel('Group')\n",
    "plt.ylim(0, max(ConversionRate.values)+1)\n",
    "plt.show()"
   ]
  },
  {
   "cell_type": "code",
   "execution_count": 55,
   "metadata": {},
   "outputs": [
    {
     "data": {
      "text/html": [
       "<div>\n",
       "<style scoped>\n",
       "    .dataframe tbody tr th:only-of-type {\n",
       "        vertical-align: middle;\n",
       "    }\n",
       "\n",
       "    .dataframe tbody tr th {\n",
       "        vertical-align: top;\n",
       "    }\n",
       "\n",
       "    .dataframe thead th {\n",
       "        text-align: right;\n",
       "    }\n",
       "</style>\n",
       "<table border=\"1\" class=\"dataframe\">\n",
       "  <thead>\n",
       "    <tr style=\"text-align: right;\">\n",
       "      <th></th>\n",
       "      <th>conversions</th>\n",
       "      <th>total</th>\n",
       "      <th>conversionrate</th>\n",
       "      <th>stand.error</th>\n",
       "      <th>ci</th>\n",
       "    </tr>\n",
       "    <tr>\n",
       "      <th>group</th>\n",
       "      <th></th>\n",
       "      <th></th>\n",
       "      <th></th>\n",
       "      <th></th>\n",
       "      <th></th>\n",
       "    </tr>\n",
       "  </thead>\n",
       "  <tbody>\n",
       "    <tr>\n",
       "      <td>A</td>\n",
       "      <td>1065</td>\n",
       "      <td>10000</td>\n",
       "      <td>0.1065</td>\n",
       "      <td>0.003085</td>\n",
       "      <td>0.006046</td>\n",
       "    </tr>\n",
       "    <tr>\n",
       "      <td>B</td>\n",
       "      <td>1366</td>\n",
       "      <td>10000</td>\n",
       "      <td>0.1366</td>\n",
       "      <td>0.003434</td>\n",
       "      <td>0.006731</td>\n",
       "    </tr>\n",
       "  </tbody>\n",
       "</table>\n",
       "</div>"
      ],
      "text/plain": [
       "       conversions  total  conversionrate  stand.error        ci\n",
       "group                                                           \n",
       "A             1065  10000          0.1065     0.003085  0.006046\n",
       "B             1366  10000          0.1366     0.003434  0.006731"
      ]
     },
     "execution_count": 55,
     "metadata": {},
     "output_type": "execute_result"
    }
   ],
   "source": [
    "#confidence interval inclusion\n",
    "\n",
    "#succesfull conversions per group\n",
    "success=df.groupby('group')['converted'].agg(['sum', 'count']).rename(columns=\n",
    "                                                                      {'sum': 'conversions', 'count': 'total'})\n",
    "#print('Succesfull conversions per group: \\n ', success)\n",
    "\n",
    "#calculate standard error\n",
    "success['conversionrate']= success['conversions']/success['total']\n",
    "success['stand.error']= np.sqrt(success['conversionrate'] * (1 - success['conversionrate']) / success['total'])\n",
    "\n",
    "#print('Succesfull converstion rate: ', success['conversionrate'])\n",
    "#print('Succesfull Standard Error: ', success['stand.error'])\n",
    "\n",
    "#95% confidence interval\n",
    "success['ci']= 1.96 * success['stand.error']\n",
    "#print('95% confidence Interval: ', success['ci'])\n",
    "success"
   ]
  },
  {
   "cell_type": "code",
   "execution_count": 67,
   "metadata": {},
   "outputs": [
    {
     "data": {
      "image/png": "[encoded data removed]",
      "text/plain": [
       "<Figure size 432x288 with 1 Axes>"
      ]
     },
     "metadata": {
      "needs_background": "light"
     },
     "output_type": "display_data"
    },
    {
     "data": {
      "text/plain": [
       "<Figure size 432x288 with 0 Axes>"
      ]
     },
     "metadata": {},
     "output_type": "display_data"
    }
   ],
   "source": [
    "#visualizing the confidence interval\n",
    "plt.bar(success.index, success['conversionrate'], yerr=success['ci'], capsize=10, color=['#AED6F1', '#F9E79F'])\n",
    "plt.title('Conversion Rates with 95% Confidence Intervals')\n",
    "plt.ylabel('Conversion Rate')\n",
    "plt.xlabel('Group')\n",
    "plt.ylim(0, success['conversionrate'].max() + 0.05)\n",
    "plt.grid(axis='y', linestyle='--', alpha=0.5)\n",
    "plt.show()\n",
    "#saving the images\n",
    "plt.savefig('data/conversion_chart.png', dpi=300) #not sure why image not saving"
   ]
  },
  {
   "cell_type": "code",
   "execution_count": 66,
   "metadata": {},
   "outputs": [
    {
     "data": {
      "image/png": "[encoded data removed]",
      "text/plain": [
       "<Figure size 432x288 with 1 Axes>"
      ]
     },
     "metadata": {
      "needs_background": "light"
     },
     "output_type": "display_data"
    },
    {
     "data": {
      "text/plain": [
       "<Figure size 432x288 with 0 Axes>"
      ]
     },
     "metadata": {},
     "output_type": "display_data"
    }
   ],
   "source": [
    "#visualizing the lift\n",
    "lift = success.loc['B', 'conversionrate'] - success.loc['A', 'conversionrate']\n",
    "plt.bar(success.index, success['conversionrate'], yerr=success['ci'], capsize=10, color=['#AED6F1', '#F9E79F'])\n",
    "plt.text(0.5, success['conversionrate'].max() + 0.02, f\"Lift = {lift:.2%}\", ha='center', fontsize=12, fontweight='bold')\n",
    "plt.title('Conversion Rates with Lift Annotation')\n",
    "plt.ylabel('Conversion Rate')\n",
    "plt.xlabel('Group')\n",
    "plt.ylim(0, success['conversionrate'].max() + 0.08)\n",
    "plt.grid(axis='y', linestyle='--', alpha=0.5)\n",
    "plt.show()\n",
    "\n",
    "#saving the images\n",
    "plt.savefig('data/conversion_chart_lift.png', dpi=300) #not sure why image not saving"
   ]
  },
  {
   "cell_type": "code",
   "execution_count": null,
   "metadata": {},
   "outputs": [],
   "source": []
  }
 ],
 "metadata": {
  "kernelspec": {
   "display_name": "Python 3",
   "language": "python",
   "name": "python3"
  },
  "language_info": {
   "codemirror_mode": {
    "name": "ipython",
    "version": 3
   },
   "file_extension": ".py",
   "mimetype": "text/x-python",
   "name": "python",
   "nbconvert_exporter": "python",
   "pygments_lexer": "ipython3",
   "version": "3.7.4"
  }
 },
 "nbformat": 4,
 "nbformat_minor": 2
}
